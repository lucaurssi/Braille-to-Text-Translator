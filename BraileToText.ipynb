{
 "cells": [
  {
   "cell_type": "code",
   "execution_count": 1,
   "metadata": {},
   "outputs": [],
   "source": [
    "import numpy as np\n",
    "import matplotlib.pyplot as plt\n",
    "import matplotlib as mpl\n",
    "import imageio as iio"
   ]
  },
  {
   "cell_type": "code",
   "execution_count": 2,
   "metadata": {},
   "outputs": [],
   "source": [
    "from os import listdir\n",
    "#from sklearn.feature_extraction.image import extract_patches_2d\n",
    "#from sklearn.decomposition import PCA\n",
    "#from sklearn.cluster import KMeans\n",
    "#from joblib import Parallel, delayed\n",
    "#from skimage import feature\n",
    "#from patchify import patchify\n"
   ]
  },
  {
   "cell_type": "code",
   "execution_count": 3,
   "metadata": {},
   "outputs": [
    {
     "name": "stdout",
     "output_type": "stream",
     "text": [
      "b1.JPG0dim.jpg\n"
     ]
    }
   ],
   "source": [
    "filename = str(input())\n",
    "path = 'Braile Dataset\\\\' + filename"
   ]
  },
  {
   "cell_type": "markdown",
   "metadata": {},
   "source": [
    "# Pré-Processamento\n",
    "Nessa etapa vamos pegar a imagem lida na celula anterior, deixa-la cinza e binarizar a imagem\n"
   ]
  },
  {
   "cell_type": "code",
   "execution_count": 4,
   "metadata": {},
   "outputs": [],
   "source": [
    "#Tasks\n",
    "#Filtro default que estamos usando, reduz o barulho bem\n",
    "def meanFilter(img, filter_size):\n",
    "    \n",
    "    x = img.shape[0]\n",
    "    y = img.shape[1]\n",
    "    \n",
    "    pad_size = int(((filter_size - 1) / 2))\n",
    "    \n",
    "    img_pad = np.pad(img, (pad_size, pad_size), constant_values = 255)\n",
    "\n",
    "    for i in range (x):\n",
    "        for j in range(y):\n",
    "            img[i, j] = img_pad[i: i + filter_size,j: j + filter_size].sum()/img_pad[i: i + filter_size,j : j + filter_size].size \n",
    "            \n",
    "    return img"
   ]
  },
  {
   "cell_type": "code",
   "execution_count": 5,
   "metadata": {},
   "outputs": [],
   "source": [
    "#Filtro alternativo, para eventualidade de mudar\n",
    "def medianFilter(img, filter_size):\n",
    "    \n",
    "    x = img.shape[0]\n",
    "    y = img.shape[1]\n",
    "    \n",
    "    pad_size = int(((filter_size - 1) / 2))\n",
    "    \n",
    "    img_pad = np.pad(img, (pad_size, pad_size), constant_values = 255)\n",
    "\n",
    "    for i in range (x):\n",
    "        for j in range(y):\n",
    "            W = np.sort(img_pad[i: i + filter_size,j: j + filter_size].flatten())\n",
    "            img[i,j] = np.median(W)\n",
    "            \n",
    "    return img "
   ]
  },
  {
   "cell_type": "code",
   "execution_count": 6,
   "metadata": {},
   "outputs": [],
   "source": [
    "# Normalização min max\n",
    "def min_max(img):\n",
    "    min = np.amin(img)\n",
    "    max = np.amax(img)\n",
    "    \n",
    "    img_res = (img - min)/(max - min)\n",
    "    \n",
    "    return img_res;"
   ]
  },
  {
   "cell_type": "code",
   "execution_count": 7,
   "metadata": {},
   "outputs": [],
   "source": [
    "#Transforma a imagem em gray-scale\n",
    "def Luminance(img):\n",
    "    img = np.array(img, copy=True).astype(float)\n",
    "    # computing conversion\n",
    "    new_img = np.zeros((img.shape[0], img.shape[1]))\n",
    "    new_img = img[:,:,0]*0.299 + img[:,:,1]*0.587 + img[:,:,2]*0.114\n",
    "    new_img = min_max(new_img)\n",
    "    \n",
    "    return new_img"
   ]
  },
  {
   "cell_type": "code",
   "execution_count": 8,
   "metadata": {},
   "outputs": [],
   "source": [
    "#Abre a imagem\n",
    "img_src = iio.imread(path)\n",
    "\n",
    "#Deixa a imagem cinza e normaliza para o intervalo de 0 a 255\n",
    "img_gray = Luminance(img_src)\n",
    "img_gray = min_max(img_gray)\n",
    "img_gray = (img_gray*255).astype(np.uint8)"
   ]
  },
  {
   "cell_type": "code",
   "execution_count": 9,
   "metadata": {},
   "outputs": [
    {
     "data": {
      "text/plain": [
       "<matplotlib.image.AxesImage at 0x1a390e6ff10>"
      ]
     },
     "execution_count": 9,
     "metadata": {},
     "output_type": "execute_result"
    },
    {
     "data": {
      "image/png": "[encoded data removed]",
      "text/plain": [
       "<Figure size 300x200 with 2 Axes>"
      ]
     },
     "metadata": {
      "needs_background": "light"
     },
     "output_type": "display_data"
    }
   ],
   "source": [
    "plt.figure(dpi=50) # change image size\n",
    "\n",
    "plt.subplot(121) # imagem aberta\n",
    "plt.imshow(img_src, cmap = \"gray\")\n",
    "\n",
    "plt.subplot(122) # grayscale + normalizacao [0-255]\n",
    "plt.imshow(img_gray, cmap = \"gray\")\n"
   ]
  },
  {
   "cell_type": "code",
   "execution_count": 10,
   "metadata": {},
   "outputs": [],
   "source": [
    "#Binariza, deixa o fundo preto e os circulos brancos, para a operação FindK\n",
    "def Binarize(img, T):\n",
    "    return np.where(img > T, 0, 1);"
   ]
  },
  {
   "cell_type": "code",
   "execution_count": 11,
   "metadata": {},
   "outputs": [],
   "source": [
    "# Usa o filtro para reduzir barulho\n",
    "img_filtered = meanFilter(img_gray,5)\n",
    "\n",
    "img_bin = Binarize(img_filtered, 175)"
   ]
  },
  {
   "cell_type": "code",
   "execution_count": 12,
   "metadata": {},
   "outputs": [
    {
     "data": {
      "text/plain": [
       "<matplotlib.image.AxesImage at 0x1a392f77820>"
      ]
     },
     "execution_count": 12,
     "metadata": {},
     "output_type": "execute_result"
    },
    {
     "data": {
      "image/png": "[encoded data removed]",
      "text/plain": [
       "<Figure size 300x200 with 2 Axes>"
      ]
     },
     "metadata": {
      "needs_background": "light"
     },
     "output_type": "display_data"
    }
   ],
   "source": [
    "plt.figure(dpi=50) # change image size\n",
    "\n",
    "plt.subplot(121) # barulho filtrado (blur)\n",
    "plt.imshow(img_filtered, cmap = \"gray\")\n",
    "\n",
    "plt.subplot(122) # binary\n",
    "plt.imshow(img_bin, cmap = \"gray\")"
   ]
  },
  {
   "cell_type": "code",
   "execution_count": 13,
   "metadata": {},
   "outputs": [
    {
     "name": "stdout",
     "output_type": "stream",
     "text": [
      "(28, 28)\n",
      "9 14\n",
      "18 42\n"
     ]
    },
    {
     "data": {
      "text/plain": [
       "<matplotlib.image.AxesImage at 0x1a393185c60>"
      ]
     },
     "execution_count": 13,
     "metadata": {},
     "output_type": "execute_result"
    },
    {
     "data": {
      "image/png": "[encoded data removed]",
      "text/plain": [
       "<Figure size 432x288 with 6 Axes>"
      ]
     },
     "metadata": {
      "needs_background": "light"
     },
     "output_type": "display_data"
    },
    {
     "data": {
      "image/png": "[encoded data removed]",
      "text/plain": [
       "<Figure size 432x288 with 1 Axes>"
      ]
     },
     "metadata": {
      "needs_background": "light"
     },
     "output_type": "display_data"
    }
   ],
   "source": [
    "#Para a k-means, que vai achar os centroides da nova imagem a ser gerada,\n",
    "#corta a imagem em seis, seria interessante garantir que a imagem está orientada e\n",
    "#posicionada corretamente antes de fazer isso\n",
    "#Rever comentario acima, não faz mais sentido\n",
    "\n",
    "\n",
    "def Discretize(img):\n",
    "    x,y = img.shape\n",
    "    \n",
    "    print(img.shape)\n",
    "    \n",
    "    stepx = x// 3\n",
    "    stepy = y// 2\n",
    "    \n",
    "    print(stepx, stepy)\n",
    "    print(2*  stepx, 3 * stepy)\n",
    "    \n",
    "    img_discrete = np.zeros((6, 1))\n",
    "    \n",
    "    img_cut = []\n",
    "    \n",
    "    #Corta a imagem em 6\n",
    "    for i in range(0, x, stepx):\n",
    "        for j in range(0, y, stepy):\n",
    "            img_cut.append(img[i : i + stepx, j : j + stepy])\n",
    "\n",
    "    for i in range(6):\n",
    "        if(img_cut[i].sum() > 0):\n",
    "            img_discrete[i] = 1;\n",
    "    \n",
    "    plt.figure(2)\n",
    "    \n",
    "    \n",
    "    plt.subplot(321)\n",
    "    plt.imshow(img_cut[0], cmap = \"gray\")\n",
    "\n",
    "    plt.subplot(322)\n",
    "    plt.imshow(img_cut[1], cmap = \"gray\")\n",
    "    \n",
    "    plt.subplot(323)\n",
    "    plt.imshow(img_cut[2], cmap = \"gray\")\n",
    "    \n",
    "    plt.subplot(324)\n",
    "    plt.imshow(img_cut[3], cmap = \"gray\")\n",
    "\n",
    "    plt.subplot(325)\n",
    "    plt.imshow(img_cut[4], cmap = \"gray\")\n",
    "\n",
    "    plt.subplot(326)\n",
    "    plt.imshow(img_cut[5], cmap = \"gray\")    \n",
    "    return img_discrete;\n",
    "\n",
    "img_discrete = Discretize(img_bin)\n",
    "\n",
    "img_discrete = np.reshape(img_discrete, (3,2))\n",
    "\n",
    "plt.figure(3)\n",
    "    \n",
    "plt.subplot(111)\n",
    "plt.imshow(img_discrete, cmap=\"gray\")\n",
    "\n"
   ]
  },
  {
   "cell_type": "markdown",
   "metadata": {},
   "source": [
    "## Criando dicionario\n",
    "Utilizamos 6 bits para indentificar cada letra\n"
   ]
  },
  {
   "cell_type": "code",
   "execution_count": 22,
   "metadata": {},
   "outputs": [
    {
     "name": "stdout",
     "output_type": "stream",
     "text": [
      "[[0. 0.]\n",
      " [0. 0.]\n",
      " [0. 0.]]\n"
     ]
    },
    {
     "data": {
      "text/plain": [
       "<matplotlib.image.AxesImage at 0x1a3934eda80>"
      ]
     },
     "execution_count": 22,
     "metadata": {},
     "output_type": "execute_result"
    },
    {
     "data": {
      "image/png": "[encoded data removed]",
      "text/plain": [
       "<Figure size 432x288 with 1 Axes>"
      ]
     },
     "metadata": {
      "needs_background": "light"
     },
     "output_type": "display_data"
    }
   ],
   "source": [
    "f = open(\"Dictionay.txt\", 'r') # arquivo com bits de 26 letras do alfabeto na ordem do braile\n",
    "bin_dictionary = []\n",
    "chars = 27\n",
    "\n",
    "for i in range(chars):\n",
    "    bit = f.read(6) # cada braile tem 6 bits/pontos\n",
    "    \n",
    "    vet = list(map(np.float32, bit))\n",
    "    vet = np.reshape(vet, (3,2)) # tranforma em matriz \n",
    "    bin_dictionary.append(vet)\n",
    "\n",
    "f.close()\n",
    "\n",
    "print(bin_dictionary[26]) # last value is space ' '\n",
    "\n",
    "plt.figure(4)    \n",
    "plt.subplot(111)\n",
    "plt.imshow(vet, cmap=\"gray\")\n",
    "\n"
   ]
  },
  {
   "cell_type": "code",
   "execution_count": 27,
   "metadata": {},
   "outputs": [
    {
     "name": "stdout",
     "output_type": "stream",
     "text": [
      "b\n"
     ]
    }
   ],
   "source": [
    "for i in range(len(bin_dictionary)):\n",
    "    if(np.array_equiv(bin_dictionary[i], img_discrete)):\n",
    "        if(i == 26):\n",
    "            print(\" \")\n",
    "        else:\n",
    "            print(chr(i + 97))"
   ]
  },
  {
   "cell_type": "code",
   "execution_count": 29,
   "metadata": {},
   "outputs": [
    {
     "name": "stdout",
     "output_type": "stream",
     "text": [
      "(28, 28)\n",
      "9 14\n",
      "18 42\n",
      "b\n"
     ]
    },
    {
     "data": {
      "image/png": "[encoded data removed]",
      "text/plain": [
       "<Figure size 432x288 with 1 Axes>"
      ]
     },
     "metadata": {
      "needs_background": "light"
     },
     "output_type": "display_data"
    },
    {
     "data": {
      "image/png": "[encoded data removed]",
      "text/plain": [
       "<Figure size 432x288 with 6 Axes>"
      ]
     },
     "metadata": {
      "needs_background": "light"
     },
     "output_type": "display_data"
    }
   ],
   "source": [
    "def braile_to_text(img_src):\n",
    "    #Etapa 1 - Carrega o dicionario\n",
    "    f = open(\"Dictionay.txt\", 'r')\n",
    "    bin_dictionary = []\n",
    "    chars = 27\n",
    "\n",
    "    for i in range(chars):\n",
    "        bit = f.read(6)\n",
    "\n",
    "        vet = list(map(np.float32, bit))\n",
    "        vet = np.reshape(vet, (3,2))\n",
    "        bin_dictionary.append(vet)\n",
    "    f.close()\n",
    "    \n",
    "    plt.figure(4)\n",
    "\n",
    "    plt.subplot(111)\n",
    "    plt.imshow(vet, cmap=\"gray\")\n",
    "    \n",
    "    #Deixa a imagem cinza e normaliza para o intervalo de 0 a 255\n",
    "    img_gray = Luminance(img_src)\n",
    "    img_gray = min_max(img_gray)\n",
    "    img_gray = (img_gray*255).astype(np.uint8)\n",
    "    \n",
    "    # Usa o filtro para reduzir barulho\n",
    "    img_filtered = meanFilter(img_gray,5)\n",
    "    \n",
    "    #Binariza a imagem\n",
    "    img_bin = Binarize(img_filtered, 175)\n",
    "    \n",
    "    #Pega a imagem binarizada e gera uma imagem 3x2 dizendo onde há ou não uma bolinha\n",
    "    img_discrete = Discretize(img_bin)\n",
    "\n",
    "    img_discrete = np.reshape(img_discrete, (3,2))\n",
    "\n",
    "    #Compara com o dicionario e printa a letras\n",
    "    for i in range(len(bin_dictionary)):\n",
    "        if(np.array_equiv(bin_dictionary[i], img_discrete)):\n",
    "            if(i == 26):\n",
    "                print(\" \")\n",
    "            else:\n",
    "                print(chr(i + 97))\n",
    "                \n",
    "                \n",
    "braile_to_text(img_src)\n",
    "    \n",
    "    "
   ]
  },
  {
   "cell_type": "code",
   "execution_count": null,
   "metadata": {},
   "outputs": [],
   "source": []
  }
 ],
 "metadata": {
  "kernelspec": {
   "display_name": "Python 3 (ipykernel)",
   "language": "python",
   "name": "python3"
  },
  "language_info": {
   "codemirror_mode": {
    "name": "ipython",
    "version": 3
   },
   "file_extension": ".py",
   "mimetype": "text/x-python",
   "name": "python",
   "nbconvert_exporter": "python",
   "pygments_lexer": "ipython3",
   "version": "3.10.4"
  }
 },
 "nbformat": 4,
 "nbformat_minor": 4
}
