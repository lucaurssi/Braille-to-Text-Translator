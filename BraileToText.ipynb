{
 "cells": [
  {
   "cell_type": "code",
   "execution_count": 1,
   "metadata": {},
   "outputs": [],
   "source": [
    "import numpy as np\n",
    "import matplotlib.pyplot as plt\n",
    "import matplotlib as mpl\n",
    "import imageio as iio"
   ]
  },
  {
   "cell_type": "code",
   "execution_count": 2,
   "metadata": {},
   "outputs": [],
   "source": [
    "from os import listdir\n",
    "#from sklearn.feature_extraction.image import extract_patches_2d\n",
    "#from sklearn.decomposition import PCA\n",
    "#from sklearn.cluster import KMeans\n",
    "#from joblib import Parallel, delayed\n",
    "#from skimage import feature\n",
    "#from patchify import patchify\n"
   ]
  },
  {
   "cell_type": "code",
   "execution_count": 3,
   "metadata": {},
   "outputs": [
    {
     "name": "stdout",
     "output_type": "stream",
     "text": [
      "Silence.png\n"
     ]
    }
   ],
   "source": [
    "filename = str(input())\n",
    "path = 'Braile Dataset\\\\' + filename"
   ]
  },
  {
   "cell_type": "markdown",
   "metadata": {},
   "source": [
    "# Pré-Processamento\n",
    "Nessa etapa vamos pegar a imagem lida na celula anterior, deixa-la cinza e binarizar a imagem\n"
   ]
  },
  {
   "cell_type": "code",
   "execution_count": 4,
   "metadata": {},
   "outputs": [],
   "source": [
    "#Tasks\n",
    "#Filtro default que estamos usando, reduz o barulho bem\n",
    "def meanFilter(img, filter_size):\n",
    "    \n",
    "    x = img.shape[0]\n",
    "    y = img.shape[1]\n",
    "    \n",
    "    pad_size = int(((filter_size - 1) / 2))\n",
    "    \n",
    "    img_pad = np.pad(img, (pad_size, pad_size), constant_values = 255)\n",
    "\n",
    "    for i in range (x):\n",
    "        for j in range(y):\n",
    "            img[i, j] = img_pad[i: i + filter_size,j: j + filter_size].sum()/img_pad[i: i + filter_size,j : j + filter_size].size \n",
    "            \n",
    "    return img"
   ]
  },
  {
   "cell_type": "code",
   "execution_count": 5,
   "metadata": {},
   "outputs": [],
   "source": [
    "#Filtro alternativo, para eventualidade de mudar\n",
    "def medianFilter(img, filter_size):\n",
    "    \n",
    "    x = img.shape[0]\n",
    "    y = img.shape[1]\n",
    "    \n",
    "    pad_size = int(((filter_size - 1) / 2))\n",
    "    \n",
    "    img_pad = np.pad(img, (pad_size, pad_size), constant_values = 255)\n",
    "\n",
    "    for i in range (x):\n",
    "        for j in range(y):\n",
    "            W = np.sort(img_pad[i: i + filter_size,j: j + filter_size].flatten())\n",
    "            img[i,j] = np.median(W)\n",
    "            \n",
    "    return img "
   ]
  },
  {
   "cell_type": "code",
   "execution_count": 6,
   "metadata": {},
   "outputs": [],
   "source": [
    "# Normalização min max\n",
    "def min_max(img):\n",
    "    min = np.amin(img)\n",
    "    max = np.amax(img)\n",
    "    \n",
    "    if (max - min > 0): \n",
    "        img_res = (img - min)/(max - min)\n",
    "    else : \n",
    "        img_res = img \n",
    "    \n",
    "    return img_res;"
   ]
  },
  {
   "cell_type": "code",
   "execution_count": 7,
   "metadata": {},
   "outputs": [],
   "source": [
    "#Transforma a imagem em gray-scale\n",
    "def Luminance(img):\n",
    "    img = np.array(img, copy=True).astype(float)\n",
    "    # computing conversion\n",
    "    new_img = np.zeros((img.shape[0], img.shape[1]))\n",
    "    new_img = img[:,:,0]*0.299 + img[:,:,1]*0.587 + img[:,:,2]*0.114\n",
    "    new_img = min_max(new_img)\n",
    "    \n",
    "    return new_img"
   ]
  },
  {
   "cell_type": "code",
   "execution_count": 8,
   "metadata": {},
   "outputs": [],
   "source": [
    "#Abre a imagem\n",
    "img_src = iio.imread(path)\n",
    "\n",
    "#Deixa a imagem cinza e normaliza para o intervalo de 0 a 255\n",
    "img_gray = Luminance(img_src)\n",
    "img_gray = min_max(img_gray)\n",
    "img_gray = (img_gray*255).astype(np.uint8)"
   ]
  },
  {
   "cell_type": "code",
   "execution_count": 9,
   "metadata": {},
   "outputs": [
    {
     "data": {
      "text/plain": [
       "<matplotlib.image.AxesImage at 0x174e5225f40>"
      ]
     },
     "execution_count": 9,
     "metadata": {},
     "output_type": "execute_result"
    },
    {
     "data": {
      "image/png": "[encoded data removed]",
      "text/plain": [
       "<Figure size 300x200 with 2 Axes>"
      ]
     },
     "metadata": {
      "needs_background": "light"
     },
     "output_type": "display_data"
    }
   ],
   "source": [
    "plt.figure(dpi=50) # change image size\n",
    "\n",
    "plt.subplot(121) # imagem aberta\n",
    "plt.imshow(img_src, cmap = \"gray\")\n",
    "\n",
    "plt.subplot(122) # grayscale + normalizacao [0-255]\n",
    "plt.imshow(img_gray, cmap = \"gray\")\n"
   ]
  },
  {
   "cell_type": "code",
   "execution_count": 10,
   "metadata": {},
   "outputs": [],
   "source": [
    "#Binariza, deixa o fundo preto e os circulos brancos, para a operação FindK\n",
    "def Binarize(img, T):\n",
    "    return np.where(img > T, 0, 1);"
   ]
  },
  {
   "cell_type": "code",
   "execution_count": 11,
   "metadata": {},
   "outputs": [],
   "source": [
    "# Usa o filtro para reduzir barulho\n",
    "img_filtered = meanFilter(img_gray,5)\n",
    "\n",
    "img_bin = Binarize(img_filtered, 175)"
   ]
  },
  {
   "cell_type": "code",
   "execution_count": 12,
   "metadata": {},
   "outputs": [
    {
     "data": {
      "text/plain": [
       "<matplotlib.image.AxesImage at 0x174ed307df0>"
      ]
     },
     "execution_count": 12,
     "metadata": {},
     "output_type": "execute_result"
    },
    {
     "data": {
      "image/png": "[encoded data removed]",
      "text/plain": [
       "<Figure size 300x200 with 2 Axes>"
      ]
     },
     "metadata": {
      "needs_background": "light"
     },
     "output_type": "display_data"
    }
   ],
   "source": [
    "plt.figure(dpi=50) # change image size\n",
    "\n",
    "plt.subplot(121) # barulho filtrado (blur)\n",
    "plt.imshow(img_filtered, cmap = \"gray\")\n",
    "\n",
    "plt.subplot(122) # binary\n",
    "plt.imshow(img_bin, cmap = \"gray\")"
   ]
  },
  {
   "cell_type": "code",
   "execution_count": 13,
   "metadata": {},
   "outputs": [],
   "source": [
    "#Para a k-means, que vai achar os centroides da nova imagem a ser gerada,\n",
    "#corta a imagem em seis, seria interessante garantir que a imagem está orientada e\n",
    "#posicionada corretamente antes de fazer isso\n",
    "#Rever comentario acima, não faz mais sentido\n",
    "\n",
    "\n",
    "def Discretize(img):\n",
    "    x,y = img.shape\n",
    "    \n",
    "    stepx = x// 3\n",
    "    stepy = y// 2\n",
    "    \n",
    "    img_discrete = np.zeros((6, 1))\n",
    "    \n",
    "    img_cut = []\n",
    "    \n",
    "    #Corta a imagem em 6\n",
    "    for i in range(0, x, stepx):\n",
    "        for j in range(0, y, stepy):\n",
    "            img_cut.append(img[i : i + stepx, j : j + stepy])\n",
    "\n",
    "    for i in range(6):\n",
    "        if(img_cut[i].sum() > 0):\n",
    "            img_discrete[i] = 1;\n",
    "    \n",
    "    #plt.figure(2)\n",
    "    \n",
    "    \n",
    "    #plt.subplot(321)\n",
    "    #plt.imshow(img_cut[0], cmap = \"gray\")\n",
    "\n",
    "    #plt.subplot(322)\n",
    "    #plt.imshow(img_cut[1], cmap = \"gray\")\n",
    "    \n",
    "    #plt.subplot(323)\n",
    "    #plt.imshow(img_cut[2], cmap = \"gray\")\n",
    "    \n",
    "    #plt.subplot(324)\n",
    "    #plt.imshow(img_cut[3], cmap = \"gray\")\n",
    "\n",
    "    #plt.subplot(325)\n",
    "    #plt.imshow(img_cut[4], cmap = \"gray\")\n",
    "\n",
    "    #plt.subplot(326)\n",
    "    #plt.imshow(img_cut[5], cmap = \"gray\")    \n",
    "    return img_discrete;\n",
    "\n",
    "img_discrete = Discretize(img_bin)\n",
    "\n",
    "img_discrete = np.reshape(img_discrete, (3,2))\n",
    "\n",
    "#plt.figure(3)\n",
    "    \n",
    "#plt.subplot(111)\n",
    "#plt.imshow(img_discrete, cmap=\"gray\")\n",
    "\n"
   ]
  },
  {
   "cell_type": "code",
   "execution_count": 14,
   "metadata": {},
   "outputs": [],
   "source": [
    "#Potencial problema, imagens não tem a mesma dimensao, reshape pode dar errado\n",
    "#Seria legal com base na imagem binarizada gerar um nova imagem com um circulo melhor e na escala desejada\n",
    "# Escala desejada = Escala das imagens no dicionario\n",
    "#def euclidian_Distance(img_test, img_dict):\n",
    "#    return np.sqrt(np.sum(np.square(img_test - img_dict)))\n"
   ]
  },
  {
   "cell_type": "code",
   "execution_count": 15,
   "metadata": {},
   "outputs": [],
   "source": [
    "#Funcional\n",
    "#    plt.subplot(231)\n",
    "#    plt.imshow(img_cut[0], cmap = \"gray\")\n",
    "\n",
    "#    plt.subplot(232)\n",
    "#    plt.imshow(img_cut[1], cmap = \"gray\")\n",
    "    \n",
    "#    plt.subplot(233)\n",
    "#    plt.imshow(img_cut[2], cmap = \"gray\")\n",
    "    \n",
    "#    plt.subplot(234)\n",
    "#    plt.imshow(img_cut[3], cmap = \"gray\")\n",
    "\n",
    "#    plt.subplot(235)\n",
    "#    plt.imshow(img_cut[4], cmap = \"gray\")\n",
    "\n",
    "#    plt.subplot(236)\n",
    "#    plt.imshow(img_cut[5], cmap = \"gray\")    \n"
   ]
  },
  {
   "cell_type": "code",
   "execution_count": 16,
   "metadata": {},
   "outputs": [
    {
     "data": {
      "text/plain": [
       "<matplotlib.image.AxesImage at 0x174ed384d60>"
      ]
     },
     "execution_count": 16,
     "metadata": {},
     "output_type": "execute_result"
    },
    {
     "data": {
      "image/png": "[encoded data removed]",
      "text/plain": [
       "<Figure size 432x288 with 1 Axes>"
      ]
     },
     "metadata": {
      "needs_background": "light"
     },
     "output_type": "display_data"
    }
   ],
   "source": [
    "f = open(\"Dictionay.txt\", 'r')\n",
    "bin_dictionary = []\n",
    "chars = 27\n",
    "\n",
    "for i in range(chars):\n",
    "    bit = f.read(6)\n",
    "    \n",
    "    vet = list(map(np.float32, bit))\n",
    "    vet = np.reshape(vet, (3,2))\n",
    "    bin_dictionary.append(vet)\n",
    "\n",
    "plt.figure(4)\n",
    "    \n",
    "plt.subplot(111)\n",
    "plt.imshow(vet, cmap=\"gray\")\n",
    "\n"
   ]
  },
  {
   "cell_type": "code",
   "execution_count": 17,
   "metadata": {},
   "outputs": [
    {
     "name": "stdout",
     "output_type": "stream",
     "text": [
      "{\n"
     ]
    }
   ],
   "source": [
    "for i in range(len(bin_dictionary)):\n",
    "    if(np.array_equiv(bin_dictionary[i], img_discrete)):\n",
    "        if(i == 27):\n",
    "            print(\" \")\n",
    "        else:\n",
    "            print(chr(i + 97))"
   ]
  },
  {
   "cell_type": "code",
   "execution_count": 18,
   "metadata": {},
   "outputs": [
    {
     "name": "stdout",
     "output_type": "stream",
     "text": [
      "4 17\n",
      "['t', 'h', 'e', ' ', 'f', 'i', 'r', 's', 't', ' ', 's', 'i', 'l', 'e', 'n', 'c', 'e', ' ', 'i', 's', ' ', 'd', 'e', 's', 'c', 'r', 'i', 'b', 'e', 'd', ' ', 'a', 's', ' ', 'a', ' ', 'h', 'o', 'l', 'l', 'o', 'w', ' ', 'o', 'r', ' ', 'e', 'c', 'h', 'o', 'i', 'i', 'g', ' ', 'q', 'u', 'i', 'e', 't', ' ', ' ', ' ', ' ', ' ', ' ', ' ', ' ', ' ']\n",
      "the first silence is described as a hollow or echoiig quiet         \n"
     ]
    },
    {
     "data": {
      "text/plain": [
       "<Figure size 432x288 with 0 Axes>"
      ]
     },
     "metadata": {},
     "output_type": "display_data"
    }
   ],
   "source": [
    "def braile_to_text(img_src):\n",
    "    #Etapa 1 - Carrega o dicionario\n",
    "    f = open(\"Dictionay.txt\", 'r')\n",
    "    bin_dictionary = []\n",
    "    chars = 27\n",
    "\n",
    "    for i in range(chars):\n",
    "        bit = f.read(6)\n",
    "\n",
    "        vet = list(map(np.float32, bit))\n",
    "        vet = np.reshape(vet, (3,2))\n",
    "        bin_dictionary.append(vet)\n",
    "    \n",
    "    #Deixa a imagem cinza e normaliza para o intervalo de 0 a 255\n",
    "    img_gray = Luminance(img_src)\n",
    "    img_gray = min_max(img_gray)\n",
    "    img_gray = (img_gray*255).astype(np.uint8)\n",
    "    \n",
    "    # Usa o filtro para reduzir barulho\n",
    "    img_filtered = meanFilter(img_gray,5)\n",
    "    \n",
    "    #Binariza a imagem\n",
    "    img_bin = Binarize(img_filtered, 175)\n",
    "    \n",
    "    #Pega a imagem binarizada e gera uma imagem 3x2 dizendo onde há ou não uma bolinha\n",
    "    img_discrete = Discretize(img_bin)\n",
    "\n",
    "    img_discrete = np.reshape(img_discrete, (3,2))\n",
    "\n",
    "    #Compara com o dicionario e printa a letras\n",
    "    for i in range(len(bin_dictionary)):\n",
    "        if(np.array_equiv(bin_dictionary[i], img_discrete)):\n",
    "            if(i == 26):\n",
    "                return chr(32)\n",
    "            else:\n",
    "                return chr(i + 97)\n",
    "        \n",
    "                \n",
    "x= img_src.shape[0]\n",
    "y = img_src.shape[1]\n",
    "\n",
    "row_ele = x // 28\n",
    "line_ele = y // 28\n",
    "\n",
    "startx= 0\n",
    "starty = 0\n",
    "\n",
    "print(row_ele, line_ele)\n",
    "\n",
    "\n",
    "plt.figure(4)\n",
    "    \n",
    "lista = []\n",
    "    \n",
    "for i in range(row_ele):\n",
    "    startx = 0\n",
    "    starty = 28 * i\n",
    "    for j in range(line_ele):\n",
    "        \n",
    "        img_slice = img_src[starty: starty + 28, startx : startx + 28]\n",
    "        \n",
    "        lista.append(braile_to_text(img_slice))\n",
    "        \n",
    "        startx = 28 * (j + 1)\n",
    "\n",
    "string = \"\"\n",
    "    \n",
    "print(lista)\n",
    "\n",
    "print(string.join(lista))\n",
    "    "
   ]
  },
  {
   "cell_type": "code",
   "execution_count": null,
   "metadata": {},
   "outputs": [],
   "source": []
  }
 ],
 "metadata": {
  "kernelspec": {
   "display_name": "Python 3",
   "language": "python",
   "name": "python3"
  },
  "language_info": {
   "codemirror_mode": {
    "name": "ipython",
    "version": 3
   },
   "file_extension": ".py",
   "mimetype": "text/x-python",
   "name": "python",
   "nbconvert_exporter": "python",
   "pygments_lexer": "ipython3",
   "version": "3.8.5"
  }
 },
 "nbformat": 4,
 "nbformat_minor": 4
}
